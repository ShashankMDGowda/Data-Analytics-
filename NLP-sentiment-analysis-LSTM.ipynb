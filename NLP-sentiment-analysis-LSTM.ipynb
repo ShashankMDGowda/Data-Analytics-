{
 "cells": [
  {
   "cell_type": "code",
   "execution_count": 1,
   "id": "21d2e912",
   "metadata": {
    "_cell_guid": "b1076dfc-b9ad-4769-8c92-a6c4dae69d19",
    "_uuid": "8f2839f25d086af736a60e9eeb907d3b93b6e0e5",
    "execution": {
     "iopub.execute_input": "2023-06-17T10:34:11.701300Z",
     "iopub.status.busy": "2023-06-17T10:34:11.700657Z",
     "iopub.status.idle": "2023-06-17T10:34:22.051677Z",
     "shell.execute_reply": "2023-06-17T10:34:22.050418Z"
    },
    "papermill": {
     "duration": 10.363164,
     "end_time": "2023-06-17T10:34:22.054962",
     "exception": false,
     "start_time": "2023-06-17T10:34:11.691798",
     "status": "completed"
    },
    "tags": []
   },
   "outputs": [
    {
     "name": "stdout",
     "output_type": "stream",
     "text": [
      "WARNING:tensorflow:From C:\\Users\\shash\\anaconda3\\lib\\site-packages\\keras\\src\\losses.py:2976: The name tf.losses.sparse_softmax_cross_entropy is deprecated. Please use tf.compat.v1.losses.sparse_softmax_cross_entropy instead.\n",
      "\n"
     ]
    }
   ],
   "source": [
    "from sklearn.feature_extraction.text import CountVectorizer\n",
    "from keras.preprocessing.text import Tokenizer\n",
    "from tensorflow.keras.preprocessing.sequence import pad_sequences\n",
    "from keras.models import Sequential\n",
    "from keras.layers import Dense, Embedding, LSTM, SpatialDropout1D\n",
    "from sklearn.model_selection import train_test_split\n",
    "from keras.utils import to_categorical\n",
    "from tensorflow.keras.callbacks import EarlyStopping\n",
    "from sklearn.metrics import classification_report, confusion_matrix\n",
    "import numpy as np \n",
    "import pandas as pd\n",
    "import re\n",
    "import matplotlib.pyplot as plt\n",
    "import seaborn as sns"
   ]
  },
  {
   "cell_type": "code",
   "execution_count": 2,
   "id": "9da9bba2",
   "metadata": {
    "execution": {
     "iopub.execute_input": "2023-06-17T10:34:22.067305Z",
     "iopub.status.busy": "2023-06-17T10:34:22.066733Z",
     "iopub.status.idle": "2023-06-17T10:34:22.098618Z",
     "shell.execute_reply": "2023-06-17T10:34:22.097607Z"
    },
    "papermill": {
     "duration": 0.03999,
     "end_time": "2023-06-17T10:34:22.100494",
     "exception": false,
     "start_time": "2023-06-17T10:34:22.060504",
     "status": "completed"
    },
    "tags": []
   },
   "outputs": [],
   "source": [
    "# input the data\n",
    "data = pd.read_csv('Restaurant_Reviews.tsv', sep ='\\t')\n",
    "# Take the choosen columns\n",
    "data = data[['Review','Liked']]"
   ]
  },
  {
   "cell_type": "code",
   "execution_count": 3,
   "id": "87cd485b",
   "metadata": {
    "execution": {
     "iopub.execute_input": "2023-06-17T10:34:22.112408Z",
     "iopub.status.busy": "2023-06-17T10:34:22.112068Z",
     "iopub.status.idle": "2023-06-17T10:34:22.128120Z",
     "shell.execute_reply": "2023-06-17T10:34:22.127214Z"
    },
    "papermill": {
     "duration": 0.02428,
     "end_time": "2023-06-17T10:34:22.130064",
     "exception": false,
     "start_time": "2023-06-17T10:34:22.105784",
     "status": "completed"
    },
    "tags": []
   },
   "outputs": [
    {
     "name": "stdout",
     "output_type": "stream",
     "text": [
      "                                                Review  Liked\n",
      "0                             Wow... Loved this place.      1\n",
      "1                                   Crust is not good.      0\n",
      "2            Not tasty and the texture was just nasty.      0\n",
      "3    Stopped by during the late May bank holiday of...      1\n",
      "4    The selection on the menu was great and so wer...      1\n",
      "..                                                 ...    ...\n",
      "995  I think food should have flavor and texture an...      0\n",
      "996                           Appetite instantly gone.      0\n",
      "997  Overall I was not impressed and would not go b...      0\n",
      "998  The whole experience was underwhelming, and I ...      0\n",
      "999  Then, as if I hadn't wasted enough of my life ...      0\n",
      "\n",
      "[1000 rows x 2 columns]\n",
      "(1000, 2)\n",
      "Review    0\n",
      "Liked     0\n",
      "dtype: int64\n"
     ]
    }
   ],
   "source": [
    "print(data)\n",
    "\n",
    "print(data.shape)\n",
    "\n",
    "print(data.isnull().sum())"
   ]
  },
  {
   "cell_type": "markdown",
   "id": "648aa6b5",
   "metadata": {
    "papermill": {
     "duration": 0.004894,
     "end_time": "2023-06-17T10:34:22.140289",
     "exception": false,
     "start_time": "2023-06-17T10:34:22.135395",
     "status": "completed"
    },
    "tags": []
   },
   "source": [
    "# Preprocessing"
   ]
  },
  {
   "cell_type": "code",
   "execution_count": 4,
   "id": "ced18ca4",
   "metadata": {
    "execution": {
     "iopub.execute_input": "2023-06-17T10:34:22.153491Z",
     "iopub.status.busy": "2023-06-17T10:34:22.152773Z",
     "iopub.status.idle": "2023-06-17T10:34:22.196813Z",
     "shell.execute_reply": "2023-06-17T10:34:22.195368Z"
    },
    "papermill": {
     "duration": 0.052646,
     "end_time": "2023-06-17T10:34:22.199068",
     "exception": false,
     "start_time": "2023-06-17T10:34:22.146422",
     "status": "completed"
    },
    "tags": []
   },
   "outputs": [
    {
     "name": "stdout",
     "output_type": "stream",
     "text": [
      "1000\n",
      "1000\n"
     ]
    }
   ],
   "source": [
    "data['Review'] = data['Review'].apply(lambda x: x.lower())\n",
    "data['Review'] = data['Review'].apply((lambda x: re.sub('[^a-zA-z0-9\\s]','',x)))\n",
    "\n",
    "print(data[ data['Liked'] == 1].size)\n",
    "print(data[ data['Liked'] == 0].size)\n",
    "    \n",
    "max_features = 300\n",
    "tokenizer = Tokenizer(num_words=max_features, split=' ')\n",
    "tokenizer.fit_on_texts(data['Review'].values)\n",
    "X = tokenizer.texts_to_sequences(data['Review'].values)\n",
    "X = pad_sequences(X)"
   ]
  },
  {
   "cell_type": "markdown",
   "id": "55530c68",
   "metadata": {
    "papermill": {
     "duration": 0.005188,
     "end_time": "2023-06-17T10:34:22.209716",
     "exception": false,
     "start_time": "2023-06-17T10:34:22.204528",
     "status": "completed"
    },
    "tags": []
   },
   "source": [
    "# Building Model Architecture"
   ]
  },
  {
   "cell_type": "code",
   "execution_count": 5,
   "id": "97967e0e",
   "metadata": {
    "execution": {
     "iopub.execute_input": "2023-06-17T10:34:22.222207Z",
     "iopub.status.busy": "2023-06-17T10:34:22.221460Z",
     "iopub.status.idle": "2023-06-17T10:34:22.570331Z",
     "shell.execute_reply": "2023-06-17T10:34:22.569373Z"
    },
    "papermill": {
     "duration": 0.359668,
     "end_time": "2023-06-17T10:34:22.574687",
     "exception": false,
     "start_time": "2023-06-17T10:34:22.215019",
     "status": "completed"
    },
    "tags": []
   },
   "outputs": [
    {
     "name": "stdout",
     "output_type": "stream",
     "text": [
      "WARNING:tensorflow:From C:\\Users\\shash\\anaconda3\\lib\\site-packages\\keras\\src\\backend.py:873: The name tf.get_default_graph is deprecated. Please use tf.compat.v1.get_default_graph instead.\n",
      "\n",
      "WARNING:tensorflow:From C:\\Users\\shash\\anaconda3\\lib\\site-packages\\keras\\src\\optimizers\\__init__.py:309: The name tf.train.Optimizer is deprecated. Please use tf.compat.v1.train.Optimizer instead.\n",
      "\n",
      "Model: \"sequential\"\n",
      "_________________________________________________________________\n",
      " Layer (type)                Output Shape              Param #   \n",
      "=================================================================\n",
      " embedding (Embedding)       (None, 26, 32)            9600      \n",
      "                                                                 \n",
      " spatial_dropout1d (Spatial  (None, 26, 32)            0         \n",
      " Dropout1D)                                                      \n",
      "                                                                 \n",
      " lstm (LSTM)                 (None, 32)                8320      \n",
      "                                                                 \n",
      " dense (Dense)               (None, 2)                 66        \n",
      "                                                                 \n",
      "=================================================================\n",
      "Total params: 17986 (70.26 KB)\n",
      "Trainable params: 17986 (70.26 KB)\n",
      "Non-trainable params: 0 (0.00 Byte)\n",
      "_________________________________________________________________\n",
      "None\n"
     ]
    }
   ],
   "source": [
    "embed_dim = 32\n",
    "lstm_out = 32\n",
    "\n",
    "model = Sequential()\n",
    "model.add(Embedding(max_features, embed_dim,input_length = X.shape[1]))\n",
    "model.add(SpatialDropout1D(0.4))\n",
    "model.add(LSTM(lstm_out, dropout=0.4, recurrent_dropout=0.4))\n",
    "model.add(Dense(2,activation='softmax'))\n",
    "model.compile(loss = 'categorical_crossentropy', optimizer='adam',metrics = ['accuracy'])\n",
    "print(model.summary())"
   ]
  },
  {
   "cell_type": "markdown",
   "id": "47851ee3",
   "metadata": {
    "papermill": {
     "duration": 0.006002,
     "end_time": "2023-06-17T10:34:22.587013",
     "exception": false,
     "start_time": "2023-06-17T10:34:22.581011",
     "status": "completed"
    },
    "tags": []
   },
   "source": [
    "# Splitting dataset"
   ]
  },
  {
   "cell_type": "code",
   "execution_count": 6,
   "id": "8fa3b1bc",
   "metadata": {
    "execution": {
     "iopub.execute_input": "2023-06-17T10:34:22.601428Z",
     "iopub.status.busy": "2023-06-17T10:34:22.600879Z",
     "iopub.status.idle": "2023-06-17T10:34:22.612375Z",
     "shell.execute_reply": "2023-06-17T10:34:22.611310Z"
    },
    "papermill": {
     "duration": 0.021307,
     "end_time": "2023-06-17T10:34:22.614537",
     "exception": false,
     "start_time": "2023-06-17T10:34:22.593230",
     "status": "completed"
    },
    "tags": []
   },
   "outputs": [
    {
     "name": "stdout",
     "output_type": "stream",
     "text": [
      "(700, 26) (700, 2)\n",
      "(300, 26) (300, 2)\n"
     ]
    }
   ],
   "source": [
    "Y = pd.get_dummies(data['Liked']).values\n",
    "X_train, X_test, Y_train, Y_test = train_test_split(X,Y, test_size = 0.30, random_state = 42)\n",
    "print(X_train.shape,Y_train.shape)\n",
    "print(X_test.shape,Y_test.shape)"
   ]
  },
  {
   "cell_type": "code",
   "execution_count": 7,
   "id": "10ead1eb",
   "metadata": {
    "execution": {
     "iopub.execute_input": "2023-06-17T10:34:22.629135Z",
     "iopub.status.busy": "2023-06-17T10:34:22.628828Z",
     "iopub.status.idle": "2023-06-17T10:34:22.633617Z",
     "shell.execute_reply": "2023-06-17T10:34:22.632598Z"
    },
    "papermill": {
     "duration": 0.014242,
     "end_time": "2023-06-17T10:34:22.635515",
     "exception": false,
     "start_time": "2023-06-17T10:34:22.621273",
     "status": "completed"
    },
    "tags": []
   },
   "outputs": [],
   "source": [
    "validation_size = len(X_test) // 2\n",
    "\n",
    "X_validate = X_test[-validation_size:]\n",
    "Y_validate = Y_test[-validation_size:]\n",
    "X_test = X_test[:-validation_size]\n",
    "Y_test = Y_test[:-validation_size]"
   ]
  },
  {
   "cell_type": "markdown",
   "id": "5c0c96d6",
   "metadata": {
    "papermill": {
     "duration": 0.006,
     "end_time": "2023-06-17T10:34:22.648030",
     "exception": false,
     "start_time": "2023-06-17T10:34:22.642030",
     "status": "completed"
    },
    "tags": []
   },
   "source": [
    "# Training"
   ]
  },
  {
   "cell_type": "code",
   "execution_count": 8,
   "id": "0f4f2026",
   "metadata": {
    "execution": {
     "iopub.execute_input": "2023-06-17T10:34:22.662079Z",
     "iopub.status.busy": "2023-06-17T10:34:22.661780Z",
     "iopub.status.idle": "2023-06-17T10:34:31.387489Z",
     "shell.execute_reply": "2023-06-17T10:34:31.386549Z"
    },
    "papermill": {
     "duration": 8.735324,
     "end_time": "2023-06-17T10:34:31.389673",
     "exception": false,
     "start_time": "2023-06-17T10:34:22.654349",
     "status": "completed"
    },
    "tags": []
   },
   "outputs": [
    {
     "name": "stdout",
     "output_type": "stream",
     "text": [
      "Epoch 1/20\n",
      "WARNING:tensorflow:From C:\\Users\\shash\\anaconda3\\lib\\site-packages\\keras\\src\\utils\\tf_utils.py:492: The name tf.ragged.RaggedTensorValue is deprecated. Please use tf.compat.v1.ragged.RaggedTensorValue instead.\n",
      "\n",
      "WARNING:tensorflow:From C:\\Users\\shash\\anaconda3\\lib\\site-packages\\keras\\src\\engine\\base_layer_utils.py:384: The name tf.executing_eagerly_outside_functions is deprecated. Please use tf.compat.v1.executing_eagerly_outside_functions instead.\n",
      "\n",
      "22/22 - 13s - loss: 0.6917 - accuracy: 0.5214 - val_loss: 0.6920 - val_accuracy: 0.4533 - 13s/epoch - 592ms/step\n",
      "Epoch 2/20\n",
      "22/22 - 1s - loss: 0.6852 - accuracy: 0.6143 - val_loss: 0.6833 - val_accuracy: 0.6200 - 913ms/epoch - 42ms/step\n",
      "Epoch 3/20\n",
      "22/22 - 1s - loss: 0.6730 - accuracy: 0.6214 - val_loss: 0.6625 - val_accuracy: 0.7067 - 900ms/epoch - 41ms/step\n",
      "Epoch 4/20\n",
      "22/22 - 1s - loss: 0.6437 - accuracy: 0.6929 - val_loss: 0.6124 - val_accuracy: 0.7667 - 901ms/epoch - 41ms/step\n",
      "Epoch 5/20\n",
      "22/22 - 1s - loss: 0.5921 - accuracy: 0.7386 - val_loss: 0.5536 - val_accuracy: 0.7133 - 934ms/epoch - 42ms/step\n",
      "Epoch 6/20\n",
      "22/22 - 1s - loss: 0.5116 - accuracy: 0.7900 - val_loss: 0.4764 - val_accuracy: 0.7867 - 938ms/epoch - 43ms/step\n",
      "Epoch 7/20\n",
      "22/22 - 1s - loss: 0.4460 - accuracy: 0.7971 - val_loss: 0.4179 - val_accuracy: 0.7867 - 1s/epoch - 52ms/step\n",
      "Epoch 8/20\n",
      "22/22 - 1s - loss: 0.3925 - accuracy: 0.8457 - val_loss: 0.4154 - val_accuracy: 0.7733 - 1s/epoch - 50ms/step\n",
      "Epoch 9/20\n",
      "22/22 - 1s - loss: 0.3566 - accuracy: 0.8671 - val_loss: 0.3905 - val_accuracy: 0.8067 - 938ms/epoch - 43ms/step\n",
      "Epoch 10/20\n",
      "22/22 - 1s - loss: 0.3296 - accuracy: 0.8814 - val_loss: 0.3782 - val_accuracy: 0.8000 - 962ms/epoch - 44ms/step\n",
      "Epoch 11/20\n",
      "22/22 - 1s - loss: 0.3293 - accuracy: 0.8629 - val_loss: 0.3398 - val_accuracy: 0.8267 - 949ms/epoch - 43ms/step\n",
      "Epoch 12/20\n",
      "22/22 - 1s - loss: 0.2890 - accuracy: 0.8757 - val_loss: 0.3400 - val_accuracy: 0.8400 - 953ms/epoch - 43ms/step\n",
      "Epoch 13/20\n",
      "22/22 - 1s - loss: 0.2832 - accuracy: 0.8857 - val_loss: 0.3445 - val_accuracy: 0.8400 - 885ms/epoch - 40ms/step\n",
      "Epoch 14/20\n",
      "22/22 - 1s - loss: 0.2661 - accuracy: 0.8871 - val_loss: 0.3521 - val_accuracy: 0.8133 - 797ms/epoch - 36ms/step\n"
     ]
    }
   ],
   "source": [
    "batch_size = 32\n",
    "early_stopping = EarlyStopping(monitor='val_loss', patience=3)\n",
    "\n",
    "history = model.fit(X_train, Y_train, epochs = 20, batch_size=batch_size, verbose = 2, validation_data=(X_validate, Y_validate), callbacks=[early_stopping])"
   ]
  },
  {
   "cell_type": "code",
   "execution_count": 9,
   "id": "80720f60",
   "metadata": {
    "execution": {
     "iopub.execute_input": "2023-06-17T10:34:31.407363Z",
     "iopub.status.busy": "2023-06-17T10:34:31.407029Z",
     "iopub.status.idle": "2023-06-17T10:34:31.647117Z",
     "shell.execute_reply": "2023-06-17T10:34:31.646304Z"
    },
    "papermill": {
     "duration": 0.251542,
     "end_time": "2023-06-17T10:34:31.649383",
     "exception": false,
     "start_time": "2023-06-17T10:34:31.397841",
     "status": "completed"
    },
    "tags": []
   },
   "outputs": [
    {
     "data": {
      "text/plain": [
       "<matplotlib.legend.Legend at 0x29800633970>"
      ]
     },
     "execution_count": 9,
     "metadata": {},
     "output_type": "execute_result"
    },
    {
     "data": {
      "image/png": "[encoded data removed]",
      "text/plain": [
       "<Figure size 640x480 with 1 Axes>"
      ]
     },
     "metadata": {},
     "output_type": "display_data"
    }
   ],
   "source": [
    "plt.plot(history.history['loss'], label='train loss')\n",
    "plt.plot(history.history['val_loss'], label='validation loss')\n",
    "plt.xlabel(\"epoch\")\n",
    "plt.ylabel(\"Loss\")\n",
    "plt.legend()"
   ]
  },
  {
   "cell_type": "code",
   "execution_count": 10,
   "id": "89040ad9",
   "metadata": {
    "execution": {
     "iopub.execute_input": "2023-06-17T10:34:31.668819Z",
     "iopub.status.busy": "2023-06-17T10:34:31.668287Z",
     "iopub.status.idle": "2023-06-17T10:34:31.907601Z",
     "shell.execute_reply": "2023-06-17T10:34:31.906526Z"
    },
    "papermill": {
     "duration": 0.251448,
     "end_time": "2023-06-17T10:34:31.909824",
     "exception": false,
     "start_time": "2023-06-17T10:34:31.658376",
     "status": "completed"
    },
    "tags": []
   },
   "outputs": [
    {
     "data": {
      "text/plain": [
       "<matplotlib.legend.Legend at 0x29806b5d930>"
      ]
     },
     "execution_count": 10,
     "metadata": {},
     "output_type": "execute_result"
    },
    {
     "data": {
      "image/png": "[encoded data removed]",
      "text/plain": [
       "<Figure size 640x480 with 1 Axes>"
      ]
     },
     "metadata": {},
     "output_type": "display_data"
    }
   ],
   "source": [
    "plt.plot(history.history['accuracy'], label='accuracy')\n",
    "plt.plot(history.history['val_accuracy'], label='validation accuracy')\n",
    "plt.xlabel(\"epoch\")\n",
    "plt.ylabel(\"Loss\")\n",
    "plt.legend()"
   ]
  },
  {
   "cell_type": "markdown",
   "id": "5ee4437b",
   "metadata": {
    "papermill": {
     "duration": 0.008784,
     "end_time": "2023-06-17T10:34:31.927644",
     "exception": false,
     "start_time": "2023-06-17T10:34:31.918860",
     "status": "completed"
    },
    "tags": []
   },
   "source": [
    "# Testing Evaluation"
   ]
  },
  {
   "cell_type": "code",
   "execution_count": 11,
   "id": "122d48a3",
   "metadata": {
    "execution": {
     "iopub.execute_input": "2023-06-17T10:34:31.947052Z",
     "iopub.status.busy": "2023-06-17T10:34:31.946753Z",
     "iopub.status.idle": "2023-06-17T10:34:32.064032Z",
     "shell.execute_reply": "2023-06-17T10:34:32.062552Z"
    },
    "papermill": {
     "duration": 0.129424,
     "end_time": "2023-06-17T10:34:32.066222",
     "exception": false,
     "start_time": "2023-06-17T10:34:31.936798",
     "status": "completed"
    },
    "tags": []
   },
   "outputs": [
    {
     "name": "stdout",
     "output_type": "stream",
     "text": [
      "5/5 - 0s - loss: 0.5960 - accuracy: 0.7467 - 100ms/epoch - 20ms/step\n",
      "score: 0.60\n",
      "acc: 0.75\n"
     ]
    }
   ],
   "source": [
    "score, acc = model.evaluate(X_test, Y_test, verbose=2, batch_size=batch_size)\n",
    "print(\"score: %.2f\" % score)\n",
    "print(\"acc: %.2f\" % acc)"
   ]
  },
  {
   "cell_type": "code",
   "execution_count": 12,
   "id": "466808aa",
   "metadata": {
    "execution": {
     "iopub.execute_input": "2023-06-17T10:34:32.086840Z",
     "iopub.status.busy": "2023-06-17T10:34:32.086516Z",
     "iopub.status.idle": "2023-06-17T10:34:32.409782Z",
     "shell.execute_reply": "2023-06-17T10:34:32.408807Z"
    },
    "papermill": {
     "duration": 0.336114,
     "end_time": "2023-06-17T10:34:32.411520",
     "exception": false,
     "start_time": "2023-06-17T10:34:32.075406",
     "status": "completed"
    },
    "tags": []
   },
   "outputs": [
    {
     "name": "stdout",
     "output_type": "stream",
     "text": [
      "5/5 [==============================] - 1s 10ms/step\n",
      "Confusion Matrix:\n",
      "[[61 10]\n",
      " [28 51]]\n",
      "Classification Report:\n",
      "              precision    recall  f1-score   support\n",
      "\n",
      "           0       0.69      0.86      0.76        71\n",
      "           1       0.84      0.65      0.73        79\n",
      "\n",
      "    accuracy                           0.75       150\n",
      "   macro avg       0.76      0.75      0.75       150\n",
      "weighted avg       0.76      0.75      0.74       150\n",
      "\n"
     ]
    }
   ],
   "source": [
    "# Calculate the predicted labels for the test data\n",
    "Y_pred = model.predict(X_test)\n",
    "Y_pred = np.argmax(Y_pred, axis=1)  # Convert probabilities to class labels\n",
    "Y_test = np.argmax(Y_test, axis=1)\n",
    "\n",
    "# Calculate the confusion matrix\n",
    "cm = confusion_matrix(Y_test, Y_pred)\n",
    "print(\"Confusion Matrix:\")\n",
    "print(cm)\n",
    "\n",
    "# Calculate precision, recall, and F1 score\n",
    "report = classification_report(Y_test, Y_pred)\n",
    "print(\"Classification Report:\")\n",
    "print(report)"
   ]
  },
  {
   "cell_type": "code",
   "execution_count": 13,
   "id": "e6414074",
   "metadata": {
    "execution": {
     "iopub.execute_input": "2023-06-17T10:34:32.431985Z",
     "iopub.status.busy": "2023-06-17T10:34:32.430841Z",
     "iopub.status.idle": "2023-06-17T10:34:32.555601Z",
     "shell.execute_reply": "2023-06-17T10:34:32.554886Z"
    },
    "papermill": {
     "duration": 0.136585,
     "end_time": "2023-06-17T10:34:32.557191",
     "exception": false,
     "start_time": "2023-06-17T10:34:32.420606",
     "status": "completed"
    },
    "tags": []
   },
   "outputs": [
    {
     "data": {
      "image/png": "[encoded data removed]",
      "text/plain": [
       "<Figure size 800x600 with 1 Axes>"
      ]
     },
     "metadata": {},
     "output_type": "display_data"
    }
   ],
   "source": [
    "# Visualisation of confusion matrix with heatmap\n",
    "# Create a heatmap of the confusion matrix\n",
    "plt.figure(figsize=(8, 6))\n",
    "sns.heatmap(cm, annot=True, cmap=\"Blues\", fmt=\"d\", cbar=False)\n",
    "plt.xlabel(\"Predicted\")\n",
    "plt.ylabel(\"True\")\n",
    "plt.title(\"Confusion Matrix\")\n",
    "plt.show()"
   ]
  },
  {
   "cell_type": "markdown",
   "id": "3cb797b3",
   "metadata": {
    "papermill": {
     "duration": 0.009796,
     "end_time": "2023-06-17T10:34:32.579347",
     "exception": false,
     "start_time": "2023-06-17T10:34:32.569551",
     "status": "completed"
    },
    "tags": []
   },
   "source": [
    "# Validation Evaluation"
   ]
  },
  {
   "cell_type": "code",
   "execution_count": 14,
   "id": "bf883b0c",
   "metadata": {
    "execution": {
     "iopub.execute_input": "2023-06-17T10:34:32.600405Z",
     "iopub.status.busy": "2023-06-17T10:34:32.599570Z",
     "iopub.status.idle": "2023-06-17T10:34:40.119066Z",
     "shell.execute_reply": "2023-06-17T10:34:40.118014Z"
    },
    "papermill": {
     "duration": 7.532771,
     "end_time": "2023-06-17T10:34:40.121509",
     "exception": false,
     "start_time": "2023-06-17T10:34:32.588738",
     "status": "completed"
    },
    "tags": []
   },
   "outputs": [
    {
     "name": "stdout",
     "output_type": "stream",
     "text": [
      "1/1 - 0s - 65ms/epoch - 65ms/step\n",
      "1/1 - 0s - 72ms/epoch - 72ms/step\n",
      "1/1 - 0s - 67ms/epoch - 67ms/step\n",
      "1/1 - 0s - 67ms/epoch - 67ms/step\n",
      "1/1 - 0s - 77ms/epoch - 77ms/step\n",
      "1/1 - 0s - 67ms/epoch - 67ms/step\n",
      "1/1 - 0s - 68ms/epoch - 68ms/step\n",
      "1/1 - 0s - 56ms/epoch - 56ms/step\n",
      "1/1 - 0s - 69ms/epoch - 69ms/step\n",
      "1/1 - 0s - 57ms/epoch - 57ms/step\n",
      "1/1 - 0s - 70ms/epoch - 70ms/step\n",
      "1/1 - 0s - 49ms/epoch - 49ms/step\n",
      "1/1 - 0s - 68ms/epoch - 68ms/step\n",
      "1/1 - 0s - 55ms/epoch - 55ms/step\n",
      "1/1 - 0s - 33ms/epoch - 33ms/step\n",
      "1/1 - 0s - 38ms/epoch - 38ms/step\n",
      "1/1 - 0s - 61ms/epoch - 61ms/step\n",
      "1/1 - 0s - 73ms/epoch - 73ms/step\n",
      "1/1 - 0s - 36ms/epoch - 36ms/step\n",
      "1/1 - 0s - 44ms/epoch - 44ms/step\n",
      "1/1 - 0s - 66ms/epoch - 66ms/step\n",
      "1/1 - 0s - 53ms/epoch - 53ms/step\n",
      "1/1 - 0s - 63ms/epoch - 63ms/step\n",
      "1/1 - 0s - 79ms/epoch - 79ms/step\n",
      "1/1 - 0s - 80ms/epoch - 80ms/step\n",
      "1/1 - 0s - 62ms/epoch - 62ms/step\n",
      "1/1 - 0s - 62ms/epoch - 62ms/step\n",
      "1/1 - 0s - 60ms/epoch - 60ms/step\n",
      "1/1 - 0s - 59ms/epoch - 59ms/step\n",
      "1/1 - 0s - 40ms/epoch - 40ms/step\n",
      "1/1 - 0s - 64ms/epoch - 64ms/step\n",
      "1/1 - 0s - 59ms/epoch - 59ms/step\n",
      "1/1 - 0s - 58ms/epoch - 58ms/step\n",
      "1/1 - 0s - 78ms/epoch - 78ms/step\n",
      "1/1 - 0s - 63ms/epoch - 63ms/step\n",
      "1/1 - 0s - 51ms/epoch - 51ms/step\n",
      "1/1 - 0s - 80ms/epoch - 80ms/step\n",
      "1/1 - 0s - 47ms/epoch - 47ms/step\n",
      "1/1 - 0s - 48ms/epoch - 48ms/step\n",
      "1/1 - 0s - 79ms/epoch - 79ms/step\n",
      "1/1 - 0s - 61ms/epoch - 61ms/step\n",
      "1/1 - 0s - 48ms/epoch - 48ms/step\n",
      "1/1 - 0s - 63ms/epoch - 63ms/step\n",
      "1/1 - 0s - 81ms/epoch - 81ms/step\n",
      "1/1 - 0s - 63ms/epoch - 63ms/step\n",
      "1/1 - 0s - 62ms/epoch - 62ms/step\n",
      "1/1 - 0s - 48ms/epoch - 48ms/step\n",
      "1/1 - 0s - 79ms/epoch - 79ms/step\n",
      "1/1 - 0s - 63ms/epoch - 63ms/step\n",
      "1/1 - 0s - 66ms/epoch - 66ms/step\n",
      "1/1 - 0s - 62ms/epoch - 62ms/step\n",
      "1/1 - 0s - 61ms/epoch - 61ms/step\n",
      "1/1 - 0s - 94ms/epoch - 94ms/step\n",
      "1/1 - 0s - 63ms/epoch - 63ms/step\n",
      "1/1 - 0s - 63ms/epoch - 63ms/step\n",
      "1/1 - 0s - 77ms/epoch - 77ms/step\n",
      "1/1 - 0s - 63ms/epoch - 63ms/step\n",
      "1/1 - 0s - 63ms/epoch - 63ms/step\n",
      "1/1 - 0s - 63ms/epoch - 63ms/step\n",
      "1/1 - 0s - 49ms/epoch - 49ms/step\n",
      "1/1 - 0s - 63ms/epoch - 63ms/step\n",
      "1/1 - 0s - 63ms/epoch - 63ms/step\n",
      "1/1 - 0s - 78ms/epoch - 78ms/step\n",
      "1/1 - 0s - 63ms/epoch - 63ms/step\n",
      "1/1 - 0s - 63ms/epoch - 63ms/step\n",
      "1/1 - 0s - 63ms/epoch - 63ms/step\n",
      "1/1 - 0s - 63ms/epoch - 63ms/step\n",
      "1/1 - 0s - 63ms/epoch - 63ms/step\n",
      "1/1 - 0s - 62ms/epoch - 62ms/step\n",
      "1/1 - 0s - 67ms/epoch - 67ms/step\n",
      "1/1 - 0s - 51ms/epoch - 51ms/step\n",
      "1/1 - 0s - 63ms/epoch - 63ms/step\n",
      "1/1 - 0s - 62ms/epoch - 62ms/step\n",
      "1/1 - 0s - 80ms/epoch - 80ms/step\n",
      "1/1 - 0s - 63ms/epoch - 63ms/step\n",
      "1/1 - 0s - 64ms/epoch - 64ms/step\n",
      "1/1 - 0s - 63ms/epoch - 63ms/step\n",
      "1/1 - 0s - 79ms/epoch - 79ms/step\n",
      "1/1 - 0s - 63ms/epoch - 63ms/step\n",
      "1/1 - 0s - 62ms/epoch - 62ms/step\n",
      "1/1 - 0s - 58ms/epoch - 58ms/step\n",
      "1/1 - 0s - 63ms/epoch - 63ms/step\n",
      "1/1 - 0s - 62ms/epoch - 62ms/step\n",
      "1/1 - 0s - 79ms/epoch - 79ms/step\n",
      "1/1 - 0s - 73ms/epoch - 73ms/step\n",
      "1/1 - 0s - 63ms/epoch - 63ms/step\n",
      "1/1 - 0s - 61ms/epoch - 61ms/step\n",
      "1/1 - 0s - 79ms/epoch - 79ms/step\n",
      "1/1 - 0s - 63ms/epoch - 63ms/step\n",
      "1/1 - 0s - 63ms/epoch - 63ms/step\n",
      "1/1 - 0s - 63ms/epoch - 63ms/step\n",
      "1/1 - 0s - 62ms/epoch - 62ms/step\n",
      "1/1 - 0s - 63ms/epoch - 63ms/step\n",
      "1/1 - 0s - 47ms/epoch - 47ms/step\n",
      "1/1 - 0s - 63ms/epoch - 63ms/step\n",
      "1/1 - 0s - 71ms/epoch - 71ms/step\n",
      "1/1 - 0s - 71ms/epoch - 71ms/step\n",
      "1/1 - 0s - 47ms/epoch - 47ms/step\n",
      "1/1 - 0s - 72ms/epoch - 72ms/step\n",
      "1/1 - 0s - 66ms/epoch - 66ms/step\n",
      "1/1 - 0s - 63ms/epoch - 63ms/step\n",
      "1/1 - 0s - 79ms/epoch - 79ms/step\n",
      "1/1 - 0s - 47ms/epoch - 47ms/step\n",
      "1/1 - 0s - 62ms/epoch - 62ms/step\n",
      "1/1 - 0s - 78ms/epoch - 78ms/step\n",
      "1/1 - 0s - 47ms/epoch - 47ms/step\n",
      "1/1 - 0s - 63ms/epoch - 63ms/step\n",
      "1/1 - 0s - 63ms/epoch - 63ms/step\n",
      "1/1 - 0s - 63ms/epoch - 63ms/step\n",
      "1/1 - 0s - 63ms/epoch - 63ms/step\n",
      "1/1 - 0s - 63ms/epoch - 63ms/step\n",
      "1/1 - 0s - 69ms/epoch - 69ms/step\n",
      "1/1 - 0s - 63ms/epoch - 63ms/step\n",
      "1/1 - 0s - 71ms/epoch - 71ms/step\n",
      "1/1 - 0s - 63ms/epoch - 63ms/step\n",
      "1/1 - 0s - 63ms/epoch - 63ms/step\n",
      "1/1 - 0s - 57ms/epoch - 57ms/step\n",
      "1/1 - 0s - 67ms/epoch - 67ms/step\n",
      "1/1 - 0s - 79ms/epoch - 79ms/step\n",
      "1/1 - 0s - 62ms/epoch - 62ms/step\n",
      "1/1 - 0s - 63ms/epoch - 63ms/step\n",
      "1/1 - 0s - 61ms/epoch - 61ms/step\n",
      "1/1 - 0s - 63ms/epoch - 63ms/step\n",
      "1/1 - 0s - 63ms/epoch - 63ms/step\n",
      "1/1 - 0s - 79ms/epoch - 79ms/step\n",
      "1/1 - 0s - 63ms/epoch - 63ms/step\n",
      "1/1 - 0s - 63ms/epoch - 63ms/step\n",
      "1/1 - 0s - 64ms/epoch - 64ms/step\n",
      "1/1 - 0s - 78ms/epoch - 78ms/step\n",
      "1/1 - 0s - 63ms/epoch - 63ms/step\n",
      "1/1 - 0s - 62ms/epoch - 62ms/step\n",
      "1/1 - 0s - 54ms/epoch - 54ms/step\n",
      "1/1 - 0s - 63ms/epoch - 63ms/step\n",
      "1/1 - 0s - 63ms/epoch - 63ms/step\n",
      "1/1 - 0s - 46ms/epoch - 46ms/step\n",
      "1/1 - 0s - 64ms/epoch - 64ms/step\n",
      "1/1 - 0s - 79ms/epoch - 79ms/step\n",
      "1/1 - 0s - 62ms/epoch - 62ms/step\n",
      "1/1 - 0s - 50ms/epoch - 50ms/step\n",
      "1/1 - 0s - 50ms/epoch - 50ms/step\n",
      "1/1 - 0s - 47ms/epoch - 47ms/step\n",
      "1/1 - 0s - 79ms/epoch - 79ms/step\n",
      "1/1 - 0s - 64ms/epoch - 64ms/step\n",
      "1/1 - 0s - 63ms/epoch - 63ms/step\n",
      "1/1 - 0s - 63ms/epoch - 63ms/step\n",
      "1/1 - 0s - 65ms/epoch - 65ms/step\n",
      "1/1 - 0s - 63ms/epoch - 63ms/step\n",
      "1/1 - 0s - 66ms/epoch - 66ms/step\n",
      "1/1 - 0s - 47ms/epoch - 47ms/step\n",
      "1/1 - 0s - 63ms/epoch - 63ms/step\n",
      "pos_acc 79.71014492753623 %\n",
      "neg_acc 82.71604938271605 %\n"
     ]
    }
   ],
   "source": [
    "pos_cnt, neg_cnt, pos_correct, neg_correct = 0, 0, 0, 0\n",
    "for x in range(len(X_validate)):\n",
    "    \n",
    "    result = model.predict(X_validate[x].reshape(1,X_test.shape[1]),batch_size=1,verbose = 2)[0]\n",
    "   \n",
    "    if np.argmax(result) == np.argmax(Y_validate[x]):\n",
    "        if np.argmax(Y_validate[x]) == 0:\n",
    "            neg_correct += 1\n",
    "        else:\n",
    "            pos_correct += 1\n",
    "       \n",
    "    if np.argmax(Y_validate[x]) == 0:\n",
    "        neg_cnt += 1\n",
    "    else:\n",
    "        pos_cnt += 1\n",
    "\n",
    "print(\"pos_acc\", pos_correct/pos_cnt*100, \"%\")\n",
    "print(\"neg_acc\", neg_correct/neg_cnt*100, \"%\")"
   ]
  },
  {
   "cell_type": "markdown",
   "id": "8eb21b0a",
   "metadata": {
    "papermill": {
     "duration": 0.01824,
     "end_time": "2023-06-17T10:34:40.157808",
     "exception": false,
     "start_time": "2023-06-17T10:34:40.139568",
     "status": "completed"
    },
    "tags": []
   },
   "source": [
    "# Demo"
   ]
  },
  {
   "cell_type": "code",
   "execution_count": 15,
   "id": "abee2d86",
   "metadata": {
    "execution": {
     "iopub.execute_input": "2023-06-17T10:34:40.196260Z",
     "iopub.status.busy": "2023-06-17T10:34:40.195897Z",
     "iopub.status.idle": "2023-06-17T10:34:40.467001Z",
     "shell.execute_reply": "2023-06-17T10:34:40.466010Z"
    },
    "papermill": {
     "duration": 0.292459,
     "end_time": "2023-06-17T10:34:40.468890",
     "exception": false,
     "start_time": "2023-06-17T10:34:40.176431",
     "status": "completed"
    },
    "tags": []
   },
   "outputs": [
    {
     "name": "stdout",
     "output_type": "stream",
     "text": [
      "[[ 0  0  0  0  0  0  0  0  0  0  0  0  0  0  0  0  0  0  0  0  0  0  0  0\n",
      "   1 11  7 16]]\n",
      "1/1 - 1s - 753ms/epoch - 753ms/step\n",
      "Text: ['the food is good']\n",
      "Sentiment: \n",
      "positive\n"
     ]
    }
   ],
   "source": [
    "text = ['the food is good']\n",
    "#vectorizing the tweet by the pre-fitted tokenizer instance\n",
    "texts = tokenizer.texts_to_sequences(text)\n",
    "#padding the tweet to have exactly the same shape as `embedding_2` input\n",
    "texts = pad_sequences(texts, maxlen=28, dtype='int32', value=0)\n",
    "print(texts)\n",
    "sentiment = model.predict(texts,batch_size=1,verbose = 2)[0]\n",
    "\n",
    "print(f\"Text: {text}\")\n",
    "print(\"Sentiment: \")\n",
    "if(np.argmax(sentiment) == 0):\n",
    "    print(\"negative\")\n",
    "elif (np.argmax(sentiment) == 1):\n",
    "    print(\"positive\")"
   ]
  },
  {
   "cell_type": "code",
   "execution_count": 16,
   "id": "7e034b3a",
   "metadata": {
    "execution": {
     "iopub.execute_input": "2023-06-17T10:34:40.506035Z",
     "iopub.status.busy": "2023-06-17T10:34:40.505745Z",
     "iopub.status.idle": "2023-06-17T10:34:40.579937Z",
     "shell.execute_reply": "2023-06-17T10:34:40.578560Z"
    },
    "papermill": {
     "duration": 0.094992,
     "end_time": "2023-06-17T10:34:40.581687",
     "exception": false,
     "start_time": "2023-06-17T10:34:40.486695",
     "status": "completed"
    },
    "tags": []
   },
   "outputs": [
    {
     "name": "stdout",
     "output_type": "stream",
     "text": [
      "[[ 0  0  0  0  0  0  0  0  0  0  0  0  0  0  0  0  0  0  0  0  0  0  0  1\n",
      "  11  7 19 95]]\n",
      "1/1 - 0s - 76ms/epoch - 76ms/step\n",
      "Text: ['the food is very bad']\n",
      "Sentiment: \n",
      "negative\n"
     ]
    }
   ],
   "source": [
    "text = ['the food is very bad']\n",
    "#vectorizing the tweet by the pre-fitted tokenizer instance\n",
    "texts = tokenizer.texts_to_sequences(text)\n",
    "#padding the tweet to have exactly the same shape as `embedding_2` input\n",
    "texts = pad_sequences(texts, maxlen=28, dtype='int32', value=0)\n",
    "print(texts)\n",
    "sentiment = model.predict(texts,batch_size=1,verbose = 2)[0]\n",
    "\n",
    "print(f\"Text: {text}\")\n",
    "print(\"Sentiment: \")\n",
    "if(np.argmax(sentiment) == 0):\n",
    "    print(\"negative\")\n",
    "elif (np.argmax(sentiment) == 1):\n",
    "    print(\"positive\")"
   ]
  },
  {
   "cell_type": "code",
   "execution_count": 17,
   "id": "50be697d",
   "metadata": {
    "execution": {
     "iopub.execute_input": "2023-06-17T10:34:40.619949Z",
     "iopub.status.busy": "2023-06-17T10:34:40.619607Z",
     "iopub.status.idle": "2023-06-17T10:34:40.681171Z",
     "shell.execute_reply": "2023-06-17T10:34:40.679732Z"
    },
    "papermill": {
     "duration": 0.083248,
     "end_time": "2023-06-17T10:34:40.683229",
     "exception": false,
     "start_time": "2023-06-17T10:34:40.599981",
     "status": "completed"
    },
    "tags": []
   },
   "outputs": [
    {
     "name": "stdout",
     "output_type": "stream",
     "text": [
      "[[  0   0   0   0   0   0   0   0   0   0   0   0   0   0   0   0   0   0\n",
      "    0   0   0   0 214   1  11   2  27 146]]\n",
      "1/1 - 0s - 75ms/epoch - 75ms/step\n",
      "Text: ['both the food and drink were fantastic.']\n",
      "Sentiment: \n",
      "positive\n"
     ]
    }
   ],
   "source": [
    "text = ['both the food and drink were fantastic.']\n",
    "#vectorizing the tweet by the pre-fitted tokenizer instance\n",
    "texts = tokenizer.texts_to_sequences(text)\n",
    "#padding the tweet to have exactly the same shape as `embedding_2` input\n",
    "texts = pad_sequences(texts, maxlen=28, dtype='int32', value=0)\n",
    "print(texts)\n",
    "sentiment = model.predict(texts,batch_size=1,verbose = 2)[0]\n",
    "\n",
    "print(f\"Text: {text}\")\n",
    "print(\"Sentiment: \")\n",
    "if(np.argmax(sentiment) == 0):\n",
    "    print(\"negative\")\n",
    "elif (np.argmax(sentiment) == 1):\n",
    "    print(\"positive\")"
   ]
  },
  {
   "cell_type": "code",
   "execution_count": 18,
   "id": "d5c2686b",
   "metadata": {
    "execution": {
     "iopub.execute_input": "2023-06-17T10:34:40.721555Z",
     "iopub.status.busy": "2023-06-17T10:34:40.721217Z",
     "iopub.status.idle": "2023-06-17T10:34:40.776526Z",
     "shell.execute_reply": "2023-06-17T10:34:40.774977Z"
    },
    "papermill": {
     "duration": 0.077408,
     "end_time": "2023-06-17T10:34:40.778792",
     "exception": false,
     "start_time": "2023-06-17T10:34:40.701384",
     "status": "completed"
    },
    "tags": []
   },
   "outputs": [
    {
     "name": "stdout",
     "output_type": "stream",
     "text": [
      "[[  0   0   0   0   0   0   0   0   0   0   0   0   0   0   0   0   0   0\n",
      "    0   0   0   0   1 123  11   3  30  52]]\n",
      "1/1 - 0s - 73ms/epoch - 73ms/step\n",
      "Text: ['The worst food I have ever eaten!']\n",
      "Sentiment: \n",
      "negative\n"
     ]
    }
   ],
   "source": [
    "text = ['The worst food I have ever eaten!']\n",
    "#vectorizing the tweet by the pre-fitted tokenizer instance\n",
    "texts = tokenizer.texts_to_sequences(text)\n",
    "#padding the tweet to have exactly the same shape as `embedding_2` input\n",
    "texts = pad_sequences(texts, maxlen=28, dtype='int32', value=0)\n",
    "print(texts)\n",
    "sentiment = model.predict(texts,batch_size=1,verbose = 2)[0]\n",
    "\n",
    "print(f\"Text: {text}\")\n",
    "print(\"Sentiment: \")\n",
    "if(np.argmax(sentiment) == 0):\n",
    "    print(\"negative\")\n",
    "elif (np.argmax(sentiment) == 1):\n",
    "    print(\"positive\")"
   ]
  },
  {
   "cell_type": "code",
   "execution_count": 19,
   "id": "1e21502d",
   "metadata": {
    "execution": {
     "iopub.execute_input": "2023-06-17T10:34:40.816864Z",
     "iopub.status.busy": "2023-06-17T10:34:40.816389Z",
     "iopub.status.idle": "2023-06-17T10:34:40.873056Z",
     "shell.execute_reply": "2023-06-17T10:34:40.871940Z"
    },
    "papermill": {
     "duration": 0.07822,
     "end_time": "2023-06-17T10:34:40.875147",
     "exception": false,
     "start_time": "2023-06-17T10:34:40.796927",
     "status": "completed"
    },
    "tags": []
   },
   "outputs": [
    {
     "name": "stdout",
     "output_type": "stream",
     "text": [
      "[[  0   0   0   0   0   0   0   0   0   0   0   0   0   0   0   0   0   0\n",
      "    0   0   0   0 214   1   2 102  27  95]]\n",
      "1/1 - 0s - 63ms/epoch - 63ms/step\n",
      "Text: ['both the fish and chicken were bad... :(']\n",
      "Sentiment: \n",
      "negative\n"
     ]
    }
   ],
   "source": [
    "text = [\"both the fish and chicken were bad... :(\"]\n",
    "#vectorizing the tweet by the pre-fitted tokenizer instance\n",
    "texts = tokenizer.texts_to_sequences(text)\n",
    "#padding the tweet to have exactly the same shape as `embedding_2` input\n",
    "texts = pad_sequences(texts, maxlen=28, dtype='int32', value=0)\n",
    "print(texts)\n",
    "sentiment = model.predict(texts,batch_size=1,verbose = 2)[0]\n",
    "\n",
    "print(f\"Text: {text}\")\n",
    "print(\"Sentiment: \")\n",
    "if(np.argmax(sentiment) == 0):\n",
    "    print(\"negative\")\n",
    "elif (np.argmax(sentiment) == 1):\n",
    "    print(\"positive\")"
   ]
  },
  {
   "cell_type": "code",
   "execution_count": null,
   "id": "71370e46",
   "metadata": {},
   "outputs": [],
   "source": []
  }
 ],
 "metadata": {
  "kernelspec": {
   "display_name": "Python 3 (ipykernel)",
   "language": "python",
   "name": "python3"
  },
  "language_info": {
   "codemirror_mode": {
    "name": "ipython",
    "version": 3
   },
   "file_extension": ".py",
   "mimetype": "text/x-python",
   "name": "python",
   "nbconvert_exporter": "python",
   "pygments_lexer": "ipython3",
   "version": "3.10.9"
  },
  "papermill": {
   "default_parameters": {},
   "duration": 41.409059,
   "end_time": "2023-06-17T10:34:43.718968",
   "environment_variables": {},
   "exception": null,
   "input_path": "__notebook__.ipynb",
   "output_path": "__notebook__.ipynb",
   "parameters": {},
   "start_time": "2023-06-17T10:34:02.309909",
   "version": "2.4.0"
  }
 },
 "nbformat": 4,
 "nbformat_minor": 5
}
